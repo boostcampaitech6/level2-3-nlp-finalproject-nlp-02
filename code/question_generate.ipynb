{
 "cells": [
  {
   "cell_type": "code",
   "execution_count": 1,
   "metadata": {},
   "outputs": [
    {
     "data": {
      "text/plain": [
       "FileObject(id='file-ogJq7hvexQi8acDbmu9EUFEw', bytes=8375, created_at=1710220565, filename='question_train_sample.jsonl', object='file', purpose='fine-tune', status='processed', status_details=None)"
      ]
     },
     "execution_count": 1,
     "metadata": {},
     "output_type": "execute_result"
    }
   ],
   "source": [
    "from openai import OpenAI\n",
    "api_key = '### YOUR OPENAI API KEY ###'\n",
    "\n",
    "client = OpenAI(api_key = api_key)\n",
    "\n",
    "# # upload trian data\n",
    "client.files.create(\n",
    "  file=open(\"### your path ###/question_train_sample.jsonl\", \"rb\"),\n",
    "  purpose=\"fine-tune\")"
   ]
  },
  {
   "cell_type": "code",
   "execution_count": 2,
   "metadata": {},
   "outputs": [
    {
     "data": {
      "text/plain": [
       "FineTuningJob(id='ftjob-w6cASCnne1IylEnVQ5mhveal', created_at=1710220577, error=Error(code=None, message=None, param=None, error=None), fine_tuned_model=None, finished_at=None, hyperparameters=Hyperparameters(n_epochs='auto', batch_size='auto', learning_rate_multiplier='auto'), model='gpt-3.5-turbo-0125', object='fine_tuning.job', organization_id='org-MRfWIXUVyw7BOHgCC1StLwLu', result_files=[], status='validating_files', trained_tokens=None, training_file='file-ogJq7hvexQi8acDbmu9EUFEw', validation_file=None, user_provided_suffix=None)"
      ]
     },
     "execution_count": 2,
     "metadata": {},
     "output_type": "execute_result"
    }
   ],
   "source": [
    "# Fine-tuning\n",
    "client.fine_tuning.jobs.create(training_file=\"### FileObject id ###\", model=\"gpt-3.5-turbo\")"
   ]
  },
  {
   "cell_type": "code",
   "execution_count": 10,
   "metadata": {},
   "outputs": [
    {
     "data": {
      "text/plain": [
       "FineTuningJob(id='ftjob-w6cASCnne1IylEnVQ5mhveal', created_at=1710220577, error=Error(code=None, message=None, param=None, error=None), fine_tuned_model='ft:gpt-3.5-turbo-0125:personal::91orrJdR', finished_at=1710220890, hyperparameters=Hyperparameters(n_epochs=9, batch_size=1, learning_rate_multiplier=2), model='gpt-3.5-turbo-0125', object='fine_tuning.job', organization_id='org-MRfWIXUVyw7BOHgCC1StLwLu', result_files=['file-mAT1t6gSXvp4y0a8LVHGWQ2u'], status='succeeded', trained_tokens=16632, training_file='file-ogJq7hvexQi8acDbmu9EUFEw', validation_file=None, user_provided_suffix=None)"
      ]
     },
     "execution_count": 10,
     "metadata": {},
     "output_type": "execute_result"
    }
   ],
   "source": [
    "client.fine_tuning.jobs.retrieve(\"### FineTuningJob id ###\")"
   ]
  },
  {
   "cell_type": "code",
   "execution_count": 5,
   "metadata": {},
   "outputs": [],
   "source": [
    "topic_list = [\"Living alone\", \"Living together\", \"Family\", \"Movies\", \"Going to clubs\", \"Going to museums\", \"Going to parks\", \"Watching sports\", \"Housing improvement\", \"Gaming\", \"Watching performances\", \"Social media\", \"Camping\", \"Job hunting\", \"Bars\", \\\n",
    "            \"Billiards\", \"Shopping\", \"Watching TV\", \"Attending concerts\", \"Chess\", \"Going to cafes\", \"Watching news\", \"Driving\", \"Volunteering\", \\\n",
    "            \"Reading\", \"Writing\", \"Reading newspapers\", \"Raising pets\", \"Singing alone\", \"Stocks\", \\\n",
    "            \"Playing instruments\", \"Taking photos\", \"Cooking\", \"Listening to music\", \"Drawing\", \"Dancing\", \"Basketball\", \"Baseball\", \\\n",
    "            \"Soccer\", \"American football\", \"Hockey\", \"Croquet\", \"Golf\", \"Volleyball\", \"Tennis\", \"Badminton\", \"Table tennis\", \\\n",
    "            \"Swimming\", \"Cycling\", \"Skiing\", \"Ice skating\", \"Jogging\", \"Walking\", \"Yoga\", \"Hiking\", \"Fishing\", \\\n",
    "            \"Fitness\", \"Taekwondo\", \"Domestic business trips\", \"International business trips\", \"Staycation\", \"Domestic travel\", \"International travel\", \"Role-playing\"]\n"
   ]
  },
  {
   "cell_type": "code",
   "execution_count": 31,
   "metadata": {},
   "outputs": [],
   "source": [
    "# Create 3 question with random topic\n",
    "import random\n",
    "\n",
    "sample_topic = random.sample(topic_list, 1)\n",
    "sample_topic = ''.join(sample_topic)\n",
    "\n",
    "response = client.chat.completions.create(\n",
    "    model = \"### fine_tuned_model ###\",\n",
    "    messages = [\n",
    "        {\"role\": \"system\", \"content\": \"Create 3 English questions that fit the topic the user has entered like OPIc\"},\n",
    "        {\"role\": \"user\", \"content\": sample_topic}\n",
    "    ]\n",
    ")\n"
   ]
  },
  {
   "cell_type": "code",
   "execution_count": 32,
   "metadata": {},
   "outputs": [
    {
     "name": "stdout",
     "output_type": "stream",
     "text": [
      "Attending concerts\n",
      "1. Have you ever attended a concert before? If so, describe the experience in detail. Who did you go with? What was the atmosphere like? What kind of music was played? Who were the performers?\n",
      "2. How have concerts changed? Do older people like to listen to different types of music than younger people at concerts? If so, how and why? Has the location of concerts changed? Have they moved from smaller venues to larger ones or vice versa?\n",
      "3. In your opinion, what makes a good concert? Is it the artist, the music, the atmosphere, or something else? Give examples of memorable concerts you have been to and explain why they were so enjoyable.\n"
     ]
    }
   ],
   "source": [
    "import json\n",
    "\n",
    "print(sample_topic)\n",
    "res_json = json.loads(response.json())\n",
    "print(res_json[\"choices\"][0][\"message\"][\"content\"])"
   ]
  },
  {
   "cell_type": "code",
   "execution_count": 12,
   "metadata": {},
   "outputs": [
    {
     "data": {
      "text/plain": [
       "'Living alone, Living together, Family, Movies, Going to clubs, Going to museums, Going to parks, Watching sports, Housing improvement, Gaming, Watching performances, Social media, Camping, Job hunting, Bars, Billiards, Shopping, Watching TV, Attending concerts, Chess, Going to cafes, Watching news, Driving, Volunteering, Reading, Writing, Reading newspapers, Raising pets, Singing alone, Stocks, Playing instruments, Taking photos, Cooking, Listening to music, Drawing, Dancing, Basketball, Baseball, Soccer, American football, Hockey, Croquet, Golf, Volleyball, Tennis, Badminton, Table tennis, Swimming, Cycling, Skiing, Ice skating, Jogging, Walking, Yoga, Hiking, Fishing, Fitness, Taekwondo, Domestic business trips, International business trips, Staycation, Domestic travel, International travel, Role-playing'"
      ]
     },
     "execution_count": 12,
     "metadata": {},
     "output_type": "execute_result"
    }
   ],
   "source": [
    "topic_str = \", \".join(topic_list)\n",
    "topic_str"
   ]
  },
  {
   "cell_type": "code",
   "execution_count": 16,
   "metadata": {},
   "outputs": [],
   "source": [
    "# Choose random topic using gpt\n",
    "response = client.chat.completions.create(\n",
    "    model = \"### fine_tuned_model ###\",\n",
    "    messages = [\n",
    "        {\"role\": \"system\", \"content\": \"Extract one topic from the list the user has entered and create three related English questions like OPIc, It is one set\"},\n",
    "        {\"role\": \"assistant\", \"content\": \"{\\\"Selected_topic\\\": \\\"Watching TV\\\", \\\"question\\\": \\\"1. What kinds of TV shows do you like to watch the most? When do you usually watch TV? 2. What is the most popular TV show in your country? Please describe it in detail. 3. Do you think that TV programs are usually suitable for all audiences? What do you think?\\\"}\"},\n",
    "        {\"role\": \"user\", \"content\": topic_str}\n",
    "    ]\n",
    ")"
   ]
  },
  {
   "cell_type": "code",
   "execution_count": 65,
   "metadata": {},
   "outputs": [
    {
     "name": "stdout",
     "output_type": "stream",
     "text": [
      "{\"Selected_topic\": \"Movies\", \"question\": \"1. How often do you watch movies? What kind of movies do you like the most? 2. Who is your favorite actor or actress, and why do you like him or her? 3. Why do you think movies are important, and what benefits do they offer?\"}, {\"Selected_topic\": \"Driving\", \"question\": \"1. How often do you drive a car? What is your favourite place to drive to and why? 2. What is your most memorable driving experience? Describe it in detail. 3. What do you like about driving, and do you think driving is a necessary skill?\"}, {\"Selected_topic\": \"Reading newspapers\", \"question\": \"1. How often do you read newspapers? When and where do you usually read them? 2. Which section do you like the most and why? 3. Do you think reading newspapers is helpful, and how does it benefit you?\"}, {\"Selected_topic\": \"Camping\", \"question\": \"1. How often do you go camping? Where do you usually go camping, and why do you like it? 2. What is the most memorable experience you had while camping, and why was it unforgettable? 3. What appeals to you about camping, and how does it positively affect you?\"}, {\"Selected_topic\": \"Soccer\", \"question\": \"1. How often do you play or watch soccer? Why are you interested in soccer? 2. Which soccer player or team impresses you the most and why? 3. What is your opinion about soccer's popularity in Korea, and what makes soccer so appealing worldwide?\"}, {\"Selected_topic\": \"Music\", \"question\": \"1. What kind of music do you enjoy listening to the most? When do you usually listen to music? 2. Who is the most famous singer or band in your country? Tell me about them. 3. Why do you think music is so important in our society?\"}, {\"Selected_topic\": \"Taking photos\", \"question\": \"1. How often do you take photos? What is your favorite subject? 2. Where and when was the most memorable photo you took? Describe it. 3. Why do you think taking photos is essential and what does photography mean to you? \"}, {\"Selected_topic\": \"Family\",  \"question\": \"1. How often do you spend time with your family? What kind of activities do you usually do together? 2. What is the most important family tradition in your country? Explain it. 3. How do you think family ties influence your personality and life?\"}, {\"Selected_topic\": \"American football\", \"question\": \"1. How often do you play or watch American football? Why do you like American football? 2. Which American football players or teams do you admire, and what makes them special? 3. What is your opinion about the popularity of American football and the impact it has on society?\"}, {\"Selected_topic\": \"Role-playing\", \"question\": \"1. How often do you participate in role-playing activities? What kind of role-playing games or scenarios do you prefer? 2. What is the most memorable experience you have had while role-playing, and why was it unforgettable? 3. What do you enjoy most about role-playing, and what benefits does it bring you?\"}\n"
     ]
    }
   ],
   "source": [
    "import json\n",
    "\n",
    "res_json = json.loads(response.json())\n",
    "print(res_json[\"choices\"][0][\"message\"][\"content\"])"
   ]
  },
  {
   "cell_type": "code",
   "execution_count": 57,
   "metadata": {},
   "outputs": [],
   "source": [
    "# Generate multiple sets of questions by prompt \n",
    "response = client.chat.completions.create(\n",
    "    model = \"### fine_tuned_model ###\",\n",
    "    messages = [\n",
    "        {\"role\": \"system\", \"content\": \"Extract one topic from the list the user has entered and create three related English questions like OPIc\"},\n",
    "        {\"role\": \"assistant\", \"content\": \"{\\\"Selected_topic\\\": \\\"Watching TV\\\", \\\"question\\\": \\\"1. What kinds of TV shows do you like to watch the most? When do you usually watch TV? 2. What is the most popular TV show in your country? Please describe it in detail. 3. Do you think that TV programs are usually suitable for all audiences? What do you think?\\\"}\"},\n",
    "        {\"role\": \"user\", \"content\": \"Wrong. Please make it in the given format.\"}\n",
    "    ]\n",
    ")"
   ]
  },
  {
   "cell_type": "code",
   "execution_count": 97,
   "metadata": {},
   "outputs": [],
   "source": [
    "# Create multiple sets of questions\n",
    "response = client.chat.completions.create(\n",
    "    model = \"### fine_tuned_model ###\",\n",
    "    messages = [\n",
    "        {\"role\": \"system\", \"content\": \"Extract one topic from the list the user has entered and create three related English questions like OPIc. Make 10 sets of questions\"},\n",
    "        {\"role\": \"assistant\", \"content\": \"{\\\"Selected_topic\\\": \\\"Traveling\\\", \\\"question\\\": \\\"1. How often do you travel? What kind of transportation do you usually choose? 2. Where is the most interesting place you have ever visited? Describe the reasons why you found it interesting. 3. What do you usually bring when you travel abroad for a long time?\\\"}, {\\\"Selected_topic\\\": \\\"Cooking\\\", \\\"question\\\": \\\"1. What kind of food do you like to cook the most? When do you usually cook? 2. What is the most popular recipe in your country? Please describe it in detail. 3. Do you think that people should be able to prepare their own food? Why or why not?\\\"}, {\\\"Selected_topic\\\": \\\"Shopping\\\", \\\"question\\\": \\\"1. Shopping is a popular activity. Tell me where you usually go shopping. When do you go there? Who do you go with? What do you typically buy? Describe as many details as possible. 2. You indicated in the survey that you enjoy shopping. Tell me about stores or shopping centers in your country. What are they like? Where are they located? What items do they sell? Is there a particular store that you regularly visit for shopping? 3. Describe one memorable or unforgettable experience you had when you were shopping. What happened? What did you buy? What made this experience so unforgettable?\\\"}, {\\\"Selected_topic\\\": \\\"Working out\\\", \\\"question\\\": \\\"1. What kinds of things do you usually do to stay healthy? What healthy food do you eat? Do you regularly work out? Please tell me what activities you do to stay healthy in detail. 2. How was the way people in your country maintained their health when you were young, and how is it now? Tell me how people keep their health has changed over the years. 3. Tell me about one thing that you try to be healthy. Were your health improve? Did you join a new exercise program, play a sport, or eat new healthy food? Give as many details as you can.\\\"}, {\\\"Selected_topic\\\": \\\"Music\\\", \\\"question\\\": \\\"1. What kind of music do you enjoy listening to the most? When do you usually listen to music? 2. Who is the most famous singer or band in your country? Tell me about them. 3. Why do you think music is so important in our society?\\\"}, {\\\"Selected_topic\\\": \\\"Reading\\\", \\\"question\\\": \\\"1. How often do you read? What kinds of books or materials do you usually read? 2. What is the most popular book in your country? Please describe it in detail. 3. What do you think the benefit of reading is?\\\"}, {\\\"Selected_topic\\\": \\\"Eating out\\\", \\\"question\\\": \\\"1. How often do you eat out? What kinds of places do you usually choose? 2. What is the most famous restaurant in your country? Please describe it in detail. 3. What do you think of eating out frequently?\\\"}, {\\\"Selected_topic\\\": \\\"Learning a new language\\\", \\\"question\\\": \\\"1. How do you study a new language? What is your favorite way? 2. From your experience, what is the best way to learn a language? 3. What does learning a new language mean to you?\\\"}, {\\\"Selected_topic\\\": \\\"Playing sports\\\",  \\\"question\\\": \\\"1. How often do you play sports? What kinds of sports do you usually play? 2. What is the most popular sport in your country? Describe the details. 3. Why do you think playing sports is good for our health and mind?\\\"}, {\\\"Selected_topic\\\": \\\"Hobbies\\\", \\\"question\\\": \\\"1. What are your hobbies? How did you become interested in them? 2. Do Koreans have specific hobbies that make you feel interesting? Please introduce them. 3. Why do you think it is important to have a hobby?\\\"}\"},\n",
    "        {\"role\": \"user\", \"content\": topic_str}\n",
    "    ],\n",
    "    temperature = 0.9\n",
    ")"
   ]
  },
  {
   "cell_type": "code",
   "execution_count": 98,
   "metadata": {},
   "outputs": [
    {
     "name": "stdout",
     "output_type": "stream",
     "text": [
      "{\"Selected_topic\": \"Living alone\", \"question\": \"1. What was your childhood home like when you lived with your family? What was it like when you lived with your family? 2. Describe your ideal home when you want to live on your own. Please include the location and layout of your home in detail. 3. Tell me about your experience of living alone.\"}, {\"Selected_topic\": \"Living together\", \"question\": \"1. Have you ever lived with roommates? If so, how many people did you live with? Tell me why you chose to live with your roommates. 2. What is your ideal roommate like in your opinion? Tell me what characteristics he or she has. 3. Tell me about your experience of living with roommates.\"}, {\"Selected_topic\": \"Family\", \"question\": \"1. How many family members do you have? 2. How often do you see your family members? What kind of things do you usually do together? 3. What is the most interesting or memorable event that you have experienced in your family?\"}, {\"Selected_topic\": \"Movies\", \"question\": \"1. How often do you watch movies? What kinds of movies do you usually choose to watch? 2. What is the most popular movie in your country? Please describe it in detail. 3. What do you think the benefits of watching movies are?\"}, {\"Selected_topic\": \"Going to clubs\", \"question\": \"1. How often do you go to clubs? What kinds of clubs do you usually choose? 2. Tell me about a club you have visited. What was it like? Describe as many details as possible. 3. What do you think the advantages and disadvantages of going to clubs are?\"}, {\"Selected_topic\": \"Going to museums\", \"question\": \"1. How often do you go to museums? What kinds of museums do you usually choose? 2. Tell me about a museum you have visited. What was it like? Describe as many details as possible. 3. What do you think the benefits of going to museums are?\"}, {\"Selected_topic\": \"Going to parks\", \"question\": \"1. How often do you go to parks? What do you usually do in parks? 2. Tell me about your most memorable or fun experience at a park. 3. What do you think the advantages of going to parks are?\"}, {\"Selected_topic\": \"Watching sports\", \"question\": \"1. How often do you watch sports? What kinds of sports do you usually watch? 2. What is the most popular sport in your country? Please describe it in detail. 3. What is your favorite sport to watch and why?\"}, {\"Selected_topic\": \"Housing improvement\", \"question\": \"1. Have you ever renovated your house? If so, what did you do? 2. Tell me about your ideal house. How would you like to decorate it and why? 3. What do you think the benefits of improving your living environment are?\"}, {\"Selected_topic\": \"Gaming\", \"question\": \"1. How often do you play games? What kinds of games do you usually play? 2. Tell me about the most interesting game you have played. 3. What do you think the advantages and disadvantages of playing games are?\"}\n",
      "['{\"Selected_topic\": \"Living alone\", \"question\": \"1. What was your childhood home like when you lived with your family? What was it like when you lived with your family? 2. Describe your ideal home when you want to live on your own. Please include the location and layout of your home in detail. 3. Tell me about your experience of living alone.\"}', '{\"Selected_topic\": \"Living together\", \"question\": \"1. Have you ever lived with roommates? If so, how many people did you live with? Tell me why you chose to live with your roommates. 2. What is your ideal roommate like in your opinion? Tell me what characteristics he or she has. 3. Tell me about your experience of living with roommates.\"}', '{\"Selected_topic\": \"Family\", \"question\": \"1. How many family members do you have? 2. How often do you see your family members? What kind of things do you usually do together? 3. What is the most interesting or memorable event that you have experienced in your family?\"}', '{\"Selected_topic\": \"Movies\", \"question\": \"1. How often do you watch movies? What kinds of movies do you usually choose to watch? 2. What is the most popular movie in your country? Please describe it in detail. 3. What do you think the benefits of watching movies are?\"}', '{\"Selected_topic\": \"Going to clubs\", \"question\": \"1. How often do you go to clubs? What kinds of clubs do you usually choose? 2. Tell me about a club you have visited. What was it like? Describe as many details as possible. 3. What do you think the advantages and disadvantages of going to clubs are?\"}', '{\"Selected_topic\": \"Going to museums\", \"question\": \"1. How often do you go to museums? What kinds of museums do you usually choose? 2. Tell me about a museum you have visited. What was it like? Describe as many details as possible. 3. What do you think the benefits of going to museums are?\"}', '{\"Selected_topic\": \"Going to parks\", \"question\": \"1. How often do you go to parks? What do you usually do in parks? 2. Tell me about your most memorable or fun experience at a park. 3. What do you think the advantages of going to parks are?\"}', '{\"Selected_topic\": \"Watching sports\", \"question\": \"1. How often do you watch sports? What kinds of sports do you usually watch? 2. What is the most popular sport in your country? Please describe it in detail. 3. What is your favorite sport to watch and why?\"}', '{\"Selected_topic\": \"Housing improvement\", \"question\": \"1. Have you ever renovated your house? If so, what did you do? 2. Tell me about your ideal house. How would you like to decorate it and why? 3. What do you think the benefits of improving your living environment are?\"}', '{\"Selected_topic\": \"Gaming\", \"question\": \"1. How often do you play games? What kinds of games do you usually play? 2. Tell me about the most interesting game you have played. 3. What do you think the advantages and disadvantages of playing games are?\"}']\n"
     ]
    }
   ],
   "source": [
    "#Post-processing\n",
    "import json\n",
    "import re\n",
    "\n",
    "res_json = json.loads(response.json())\n",
    "print(res_json[\"choices\"][0][\"message\"][\"content\"])\n",
    "mod_output = res_json[\"choices\"][0][\"message\"][\"content\"].replace(\"[\", \"\")\n",
    "mod_output = mod_output.replace(\"]\", \"\")\n",
    "\n",
    "mod_output = re.findall(r'\\{.*?\\}', mod_output)\n",
    "print(mod_output)"
   ]
  },
  {
   "cell_type": "code",
   "execution_count": 92,
   "metadata": {},
   "outputs": [],
   "source": [
    "temp = []"
   ]
  },
  {
   "cell_type": "code",
   "execution_count": 99,
   "metadata": {},
   "outputs": [],
   "source": [
    "# Save output into generated_question.json\n",
    "file_path = '### DATA PATH ###.json'\n",
    "\n",
    "for question in mod_output:\n",
    "    try:\n",
    "        generated_question = eval(question)\n",
    "        temp.append(generated_question)\n",
    "    except:\n",
    "        continue\n"
   ]
  },
  {
   "cell_type": "code",
   "execution_count": 100,
   "metadata": {},
   "outputs": [],
   "source": [
    "with open(file_path, 'w') as f:   \n",
    "    json.dump(temp, f, indent=4)"
   ]
  },
  {
   "cell_type": "code",
   "execution_count": 2,
   "metadata": {},
   "outputs": [
    {
     "name": "stdout",
     "output_type": "stream",
     "text": [
      "{'Selected_topic': 'Watching TV', 'question': '1. What kinds of TV shows do you like to watch the most? When do you usually watch TV? 2. What is the most popular TV show in your country? Please describe it in detail. 3. Do you think that TV programs are usually suitable for all audiences? What do you think?'}\n"
     ]
    }
   ],
   "source": [
    "import json\n",
    "\n",
    "file_path = \"/home/jiin/level3-nlp-productserving-nlp-02/data/generated_question.json\"\n",
    "\n",
    "with open(file_path, 'r') as f:   \n",
    "    raw_data = json.load(f)\n",
    "\n",
    "print(raw_data[0])"
   ]
  },
  {
   "cell_type": "code",
   "execution_count": 28,
   "metadata": {},
   "outputs": [
    {
     "data": {
      "text/plain": [
       "31"
      ]
     },
     "execution_count": 28,
     "metadata": {},
     "output_type": "execute_result"
    }
   ],
   "source": [
    "import re\n",
    "\n",
    "temp_dict_list = []\n",
    "\n",
    "for data in raw_data:\n",
    "    q1 = re.findall(r\"(?<=1\\. ).*?(?=2\\.)\", data['question'])[0]\n",
    "    q2 = re.findall(r\"(?<=2\\. ).*?(?=3\\.)\", data['question'])[0]\n",
    "    q3 = re.findall(r\"\\b3\\.\\s+(.*?)$\", data['question'])[0]\n",
    "\n",
    "    # print(q1, q2 ,q3)\n",
    "    temp_dict = {\"Selected_topic\": data['Selected_topic'], 'Q1': q1, 'Q2': q2, 'Q3': q3}\n",
    "    temp_dict_list.append(temp_dict)\n"
   ]
  },
  {
   "cell_type": "code",
   "execution_count": 29,
   "metadata": {},
   "outputs": [],
   "source": [
    "with open(file_path, 'w') as f:   \n",
    "    json.dump(temp_dict_list, f, indent=4)"
   ]
  },
  {
   "cell_type": "code",
   "execution_count": null,
   "metadata": {},
   "outputs": [],
   "source": []
  }
 ],
 "metadata": {
  "kernelspec": {
   "display_name": "jiin-I4jv96c0-py3.8",
   "language": "python",
   "name": "python3"
  },
  "language_info": {
   "codemirror_mode": {
    "name": "ipython",
    "version": 3
   },
   "file_extension": ".py",
   "mimetype": "text/x-python",
   "name": "python",
   "nbconvert_exporter": "python",
   "pygments_lexer": "ipython3",
   "version": "3.8.10"
  }
 },
 "nbformat": 4,
 "nbformat_minor": 2
}
