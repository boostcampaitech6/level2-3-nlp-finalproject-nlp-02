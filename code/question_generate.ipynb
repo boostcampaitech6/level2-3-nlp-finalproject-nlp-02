{
 "cells": [
  {
   "cell_type": "code",
   "execution_count": 2,
   "metadata": {},
   "outputs": [
    {
     "data": {
      "text/plain": [
       "FileObject(id='file-f6yaBLNZVbr9wMewBv7G4euX', bytes=8347, created_at=1709826866, filename='question_train_sample.jsonl', object='file', purpose='fine-tune', status='processed', status_details=None)"
      ]
     },
     "execution_count": 2,
     "metadata": {},
     "output_type": "execute_result"
    }
   ],
   "source": [
    "from openai import OpenAI\n",
    "api_key = '### YOUR OPENAI API KEY ###'\n",
    "\n",
    "client = OpenAI(api_key = api_key)\n",
    "\n",
    "# upload trian data\n",
    "client.files.create(\n",
    "  file=open(\"### your path ###/question_train_sample.jsonl\", \"rb\"),\n",
    "  purpose=\"fine-tune\"\n",
    ")"
   ]
  },
  {
   "cell_type": "code",
   "execution_count": 15,
   "metadata": {},
   "outputs": [
    {
     "data": {
      "text/plain": [
       "FineTuningJob(id='ftjob-mm8t8CxtbJcKS2zLB79fH8wz', created_at=1709817564, error=Error(code=None, message=None, param=None, error=None), fine_tuned_model=None, finished_at=None, hyperparameters=Hyperparameters(n_epochs='auto', batch_size='auto', learning_rate_multiplier='auto'), model='gpt-3.5-turbo-0125', object='fine_tuning.job', organization_id='org-MRfWIXUVyw7BOHgCC1StLwLu', result_files=[], status='validating_files', trained_tokens=None, training_file='file-UR6PDwiXk1YHvKjt6ZYQ8uzA', validation_file=None, user_provided_suffix=None)"
      ]
     },
     "execution_count": 15,
     "metadata": {},
     "output_type": "execute_result"
    }
   ],
   "source": [
    "# Fine-tuning\n",
    "client.fine_tuning.jobs.create(training_file=\"### FileObject id ###\", model=\"gpt-3.5-turbo\")"
   ]
  },
  {
   "cell_type": "code",
   "execution_count": 3,
   "metadata": {},
   "outputs": [
    {
     "data": {
      "text/plain": [
       "FineTuningJob(id='ftjob-mm8t8CxtbJcKS2zLB79fH8wz', created_at=1709817564, error=Error(code=None, message=None, param=None, error=None), fine_tuned_model='ft:gpt-3.5-turbo-0125:personal::9083oP0C', finished_at=1709818011, hyperparameters=Hyperparameters(n_epochs=9, batch_size=1, learning_rate_multiplier=2), model='gpt-3.5-turbo-0125', object='fine_tuning.job', organization_id='org-MRfWIXUVyw7BOHgCC1StLwLu', result_files=['file-feXCHqIjoWpJIX7fgD2dd4cI'], status='succeeded', trained_tokens=16299, training_file='file-UR6PDwiXk1YHvKjt6ZYQ8uzA', validation_file=None, user_provided_suffix=None)"
      ]
     },
     "execution_count": 3,
     "metadata": {},
     "output_type": "execute_result"
    }
   ],
   "source": [
    "client.fine_tuning.jobs.retrieve(\"### FineTuningJob id ###\")"
   ]
  },
  {
   "cell_type": "code",
   "execution_count": 4,
   "metadata": {},
   "outputs": [],
   "source": [
    "response = client.chat.completions.create(\n",
    "    model = \"### fine_tuned_model ###\",\n",
    "    messages = [\n",
    "        {\"role\": \"system\", \"content\": \"유저가 입력한 주제에 맞는 질문 3가지 생성\"},\n",
    "        {\"role\": \"user\", \"content\": \"공원\"}\n",
    "    ]\n",
    ")\n"
   ]
  },
  {
   "cell_type": "code",
   "execution_count": 9,
   "metadata": {},
   "outputs": [
    {
     "data": {
      "text/plain": [
       "'1. What is your favorite park? Where is it located? What makes it so special and meaningful to you? \\n\\n2. Can you describe a park you have visited recently? What was it like? What did you do there? \\n\\n3. Do you think parks are important? How are parks in your country different from parks in other countries?'"
      ]
     },
     "execution_count": 9,
     "metadata": {},
     "output_type": "execute_result"
    }
   ],
   "source": [
    "import json\n",
    "\n",
    "res_json = json.loads(response.json())\n",
    "res_json[\"choices\"][0][\"message\"][\"content\"]"
   ]
  },
  {
   "cell_type": "code",
   "execution_count": 12,
   "metadata": {},
   "outputs": [
    {
     "name": "stdout",
     "output_type": "stream",
     "text": [
      "1. What is your favorite park? Where is it located? What makes it so special and meaningful to you? \n",
      "\n",
      "2. Can you describe a park you have visited recently? What was it like? What did you do there? \n",
      "\n",
      "3. Do you think parks are important? How are parks in your country different from parks in other countries?\n"
     ]
    }
   ],
   "source": [
    "sample = res_json[\"choices\"][0][\"message\"][\"content\"]\n",
    "# type(sample)\n",
    "# print(sample)"
   ]
  },
  {
   "cell_type": "code",
   "execution_count": 76,
   "metadata": {},
   "outputs": [],
   "source": [
    "topic_list = [\"Living alone\", \"Living together\", \"Family\", \"Movies\", \"Going to clubs\", \"Going to museums\", \"Going to parks\", \"Watching sports\", \"Housing improvement\", \"Gaming\", \"Watching performances\", \"Social media\", \"Camping\", \"Job hunting\", \"Bars\", \\\n",
    "            \"Billiards\", \"Shopping\", \"Watching TV\", \"Attending concerts\", \"Chess\", \"Going to cafes\", \"Watching news\", \"Driving\", \"Volunteering\", \\\n",
    "            \"Reading\", \"Writing\", \"Reading newspapers\", \"Raising pets\", \"Singing alone\", \"Stocks\", \\\n",
    "            \"Playing instruments\", \"Taking photos\", \"Cooking\", \"Listening to music\", \"Drawing\", \"Dancing\", \"Basketball\", \"Baseball\", \\\n",
    "            \"Soccer\", \"American football\", \"Hockey\", \"Croquet\", \"Golf\", \"Volleyball\", \"Tennis\", \"Badminton\", \"Table tennis\", \\\n",
    "            \"Swimming\", \"Cycling\", \"Skiing\", \"Ice skating\", \"Jogging\", \"Walking\", \"Yoga\", \"Hiking\", \"Fishing\", \\\n",
    "            \"Fitness\", \"Taekwondo\", \"Domestic business trips\", \"International business trips\", \"Staycation\", \"Domestic travel\", \"International travel\", \"Role-playing\"]\n"
   ]
  },
  {
   "cell_type": "code",
   "execution_count": 93,
   "metadata": {},
   "outputs": [],
   "source": [
    "import random\n",
    "\n",
    "sample_topic = random.sample(topic_list, 1)\n",
    "sample_topic = ''.join(sample_topic)\n",
    "\n",
    "response = client.chat.completions.create(\n",
    "    model = \"### fine_tuned_model ###\",\n",
    "    messages = [\n",
    "        {\"role\": \"system\", \"content\": \"유저가 입력한 주제에 맞는 조금 어려운 영어 질문 3가지 생성\"},\n",
    "        {\"role\": \"user\", \"content\": sample_topic}\n",
    "    ]\n",
    ")\n"
   ]
  },
  {
   "cell_type": "code",
   "execution_count": 94,
   "metadata": {},
   "outputs": [
    {
     "name": "stdout",
     "output_type": "stream",
     "text": [
      "쇼핑\n",
      "1. When was the last time you went shopping? What did you buy?\n",
      "2. Where do you usually go shopping? Why do you like that place for shopping? \n",
      "3. What do you think about online shopping? Compare it to traditional shopping. Which ones do you prefer, and can you tell me the reason?\n"
     ]
    }
   ],
   "source": [
    "import json\n",
    "\n",
    "print(sample_topic)\n",
    "res_json = json.loads(response.json())\n",
    "print(res_json[\"choices\"][0][\"message\"][\"content\"])"
   ]
  },
  {
   "cell_type": "code",
   "execution_count": null,
   "metadata": {},
   "outputs": [],
   "source": []
  }
 ],
 "metadata": {
  "kernelspec": {
   "display_name": "jiin-I4jv96c0-py3.8",
   "language": "python",
   "name": "python3"
  },
  "language_info": {
   "codemirror_mode": {
    "name": "ipython",
    "version": 3
   },
   "file_extension": ".py",
   "mimetype": "text/x-python",
   "name": "python",
   "nbconvert_exporter": "python",
   "pygments_lexer": "ipython3",
   "version": "3.8.10"
  }
 },
 "nbformat": 4,
 "nbformat_minor": 2
}
