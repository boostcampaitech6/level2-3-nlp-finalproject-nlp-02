{
 "cells": [
  {
   "cell_type": "code",
   "execution_count": 46,
   "metadata": {},
   "outputs": [
    {
     "data": {
      "text/plain": [
       "FileObject(id='file-ruFNvRzHtmmnCLcFPVV26WnP', bytes=9874, created_at=1709529804, filename='coherence_train_sample.jsonl', object='file', purpose='fine-tune', status='processed', status_details=None)"
      ]
     },
     "execution_count": 46,
     "metadata": {},
     "output_type": "execute_result"
    }
   ],
   "source": [
    "from openai import OpenAI\n",
    "api_key = '### YOUR OPENAI API KEY ###'\n",
    "\n",
    "client = OpenAI(api_key = api_key)\n",
    "\n",
    "# upload trian data\n",
    "client.files.create(\n",
    "  file=open(\"### your path ### /coherence_train_sample.jsonl\", \"rb\"),\n",
    "  purpose=\"fine-tune\"\n",
    ")"
   ]
  },
  {
   "cell_type": "code",
   "execution_count": 48,
   "metadata": {},
   "outputs": [
    {
     "data": {
      "text/plain": [
       "FineTuningJob(id='ftjob-TLJ7Uat0aGAYSd1IDg7zxHEl', created_at=1709529818, error=Error(code=None, message=None, param=None, error=None), fine_tuned_model=None, finished_at=None, hyperparameters=Hyperparameters(n_epochs='auto', batch_size='auto', learning_rate_multiplier='auto'), model='gpt-3.5-turbo-0125', object='fine_tuning.job', organization_id='org-MRfWIXUVyw7BOHgCC1StLwLu', result_files=[], status='validating_files', trained_tokens=None, training_file='file-ruFNvRzHtmmnCLcFPVV26WnP', validation_file=None, user_provided_suffix=None)"
      ]
     },
     "execution_count": 48,
     "metadata": {},
     "output_type": "execute_result"
    }
   ],
   "source": [
    "# Fine-tuning\n",
    "client.fine_tuning.jobs.create(training_file=\"### FileObject id ###\", model=\"gpt-3.5-turbo\")"
   ]
  },
  {
   "cell_type": "code",
   "execution_count": 51,
   "metadata": {},
   "outputs": [
    {
     "data": {
      "text/plain": [
       "FineTuningJob(id='ftjob-TLJ7Uat0aGAYSd1IDg7zxHEl', created_at=1709529818, error=Error(code=None, message=None, param=None, error=None), fine_tuned_model='ft:gpt-3.5-turbo-0125:personal::8yvBw03H', finished_at=1709530215, hyperparameters=Hyperparameters(n_epochs=8, batch_size=1, learning_rate_multiplier=2), model='gpt-3.5-turbo-0125', object='fine_tuning.job', organization_id='org-MRfWIXUVyw7BOHgCC1StLwLu', result_files=['file-Qru9EJrjw0SAl2Qmwaxj3e2n'], status='succeeded', trained_tokens=18752, training_file='file-ruFNvRzHtmmnCLcFPVV26WnP', validation_file=None, user_provided_suffix=None)"
      ]
     },
     "execution_count": 51,
     "metadata": {},
     "output_type": "execute_result"
    }
   ],
   "source": [
    "client.fine_tuning.jobs.retrieve(\"### FineTuningJob id ###\")"
   ]
  },
  {
   "cell_type": "code",
   "execution_count": 52,
   "metadata": {},
   "outputs": [],
   "source": [
    "response = client.chat.completions.create(\n",
    "    model = \"### fine_tuned_model ###\",\n",
    "    messages = [\n",
    "        {\"role\": \"system\", \"content\": \"질문에 대한 대답 스크립트가 입력되었을 때 문맥이 적합한지 평가\"},\n",
    "        {\"role\": \"user\", \"content\": \"{How has your interest in plays changed over the last few years? What kind of play did you like in the past? What about now?}, {Okay, Lets talk about My taste in concerts... Actually, I have seen a lot of concerts. Right. Nowadays, I love k-pop concerts such as BTS concerts, Aespa concerts, Blackpink concerts, and whatever. K-pop concerts are a trend these days. And there are a lot of k-pop concerts in Korea. Those concerts are so fun and spectacular. But in the past, Um... yeah, I liked piano concerts. Because the first concert I have seen in my life is called Classic. That concert was a piano concert. It was so impressive and touched me. But I like k-pop concerts now. You know, it makes me feel like Im a k-pop star. What about you?}\" }\n",
    "    ]\n",
    ")"
   ]
  },
  {
   "cell_type": "code",
   "execution_count": 54,
   "metadata": {},
   "outputs": [
    {
     "data": {
      "text/plain": [
       "'중간'"
      ]
     },
     "execution_count": 54,
     "metadata": {},
     "output_type": "execute_result"
    }
   ],
   "source": [
    "import json\n",
    "\n",
    "res_json = json.loads(response.json())\n",
    "res_json[\"choices\"][0][\"message\"][\"content\"]"
   ]
  },
  {
   "cell_type": "code",
   "execution_count": 55,
   "metadata": {},
   "outputs": [],
   "source": [
    "response = client.chat.completions.create(\n",
    "    model = \"### fine_tuned_model ###\",\n",
    "    messages = [\n",
    "        {\"role\": \"system\", \"content\": \"질문에 대한 대답 스크립트가 입력되었을 때 문맥이 적합한지 평가\"},\n",
    "        {\"role\": \"user\", \"content\": \"{ People sometimes encounter difficulties while at cafés. What are some problems you had to deal with during your café visits? Provide all the details, and suggest possible solutions.}, {When I visit the cafe, I encounter some difficulties, like the first, I usually go to cafe when it is over 10 o'clock. So they usually say that, sorry, the coffee machine is cleaning, so you cannot order the coffee or you just can order some juice or other ingredients. So that is the first thing I encountered. And the second is, they usually just makes the bad coffee. It doesn't care what it tastes like or the scents of the coffee. So when I go to the new cafe, so they don't easily get the taste what I want from the coffee.}\" }\n",
    "    ]\n",
    ")"
   ]
  },
  {
   "cell_type": "code",
   "execution_count": 56,
   "metadata": {},
   "outputs": [
    {
     "data": {
      "text/plain": [
       "'높음'"
      ]
     },
     "execution_count": 56,
     "metadata": {},
     "output_type": "execute_result"
    }
   ],
   "source": [
    "import json\n",
    "\n",
    "res_json = json.loads(response.json())\n",
    "res_json[\"choices\"][0][\"message\"][\"content\"]"
   ]
  },
  {
   "cell_type": "code",
   "execution_count": 57,
   "metadata": {},
   "outputs": [],
   "source": [
    "response = client.chat.completions.create(\n",
    "    model = \"### fine_tuned_model ###\",\n",
    "    messages = [\n",
    "        {\"role\": \"system\", \"content\": \"질문에 대한 대답 스크립트가 입력되었을 때 문맥이 적합한지 평가\"},\n",
    "        {\"role\": \"user\", \"content\": \"{You indicated in the survey that you like to go to a concert. What kind of concert do you like the most? Why do you like that concert? Please tell me about it in detail.}, {I can't remember anything right now. Sorry, Ava. Let me go on to the next question}\" }\n",
    "    ]\n",
    ")"
   ]
  },
  {
   "cell_type": "code",
   "execution_count": 58,
   "metadata": {},
   "outputs": [
    {
     "data": {
      "text/plain": [
       "'낮음'"
      ]
     },
     "execution_count": 58,
     "metadata": {},
     "output_type": "execute_result"
    }
   ],
   "source": [
    "import json\n",
    "\n",
    "res_json = json.loads(response.json())\n",
    "res_json[\"choices\"][0][\"message\"][\"content\"]"
   ]
  },
  {
   "cell_type": "code",
   "execution_count": null,
   "metadata": {},
   "outputs": [],
   "source": []
  }
 ],
 "metadata": {
  "kernelspec": {
   "display_name": "jiin-I4jv96c0-py3.8",
   "language": "python",
   "name": "python3"
  },
  "language_info": {
   "codemirror_mode": {
    "name": "ipython",
    "version": 3
   },
   "file_extension": ".py",
   "mimetype": "text/x-python",
   "name": "python",
   "nbconvert_exporter": "python",
   "pygments_lexer": "ipython3",
   "version": "3.8.10"
  }
 },
 "nbformat": 4,
 "nbformat_minor": 2
}
